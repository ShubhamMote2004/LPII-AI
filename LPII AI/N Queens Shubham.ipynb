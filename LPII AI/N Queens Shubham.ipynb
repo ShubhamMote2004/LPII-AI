{
 "cells": [
  {
   "cell_type": "code",
   "execution_count": 6,
   "id": "1861dadf",
   "metadata": {},
   "outputs": [
    {
     "name": "stdout",
     "output_type": "stream",
     "text": [
      "Enter Number of queens: 5\n",
      "[1, 0, 0, 0, 0]\n",
      "[0, 0, 1, 0, 0]\n",
      "[0, 0, 0, 0, 1]\n",
      "[0, 1, 0, 0, 0]\n",
      "[0, 0, 0, 1, 0]\n"
     ]
    }
   ],
   "source": [
    "def issafe(row, col):\n",
    "    #check row and colm\n",
    "    for i in range(n):\n",
    "        if((b[row][i] ==1) or(b[i][col] == 1)):\n",
    "            return False\n",
    "    \n",
    "    for i in range(n):\n",
    "        for j in range(n):\n",
    "            if row+col == i+j or row-col == i-j:\n",
    "                if(b[i][j] == 1):\n",
    "                    return False\n",
    "    \n",
    "    return True\n",
    "\n",
    "\n",
    "def nqueens(noq):\n",
    "    if (noq == 0):\n",
    "        return True\n",
    "    \n",
    "    for row in range(n):\n",
    "        for col in range(n):\n",
    "            if ((b[row][col] == 0) and issafe(row,col)):\n",
    "                b[row][col] = 1\n",
    "                if(nqueens(noq-1) == True):\n",
    "                    return True\n",
    "                b[row][col] = 0\n",
    "        \n",
    "    return False\n",
    "n = int(input(\"Enter Number of queens: \"))\n",
    "noq = n\n",
    "b = [[0] * n for _ in range(n)]\n",
    "# nqueens(n)\n",
    "\n",
    "if (nqueens(n)):\n",
    "    for i in range(n):\n",
    "        print(b[i], end=\"\\n\")\n",
    "else:\n",
    "    print(\"Cannot Solve\")"
   ]
  },
  {
   "cell_type": "code",
   "execution_count": null,
   "id": "b270136b",
   "metadata": {},
   "outputs": [],
   "source": []
  },
  {
   "cell_type": "code",
   "execution_count": null,
   "id": "791353ee",
   "metadata": {},
   "outputs": [],
   "source": []
  },
  {
   "cell_type": "code",
   "execution_count": null,
   "id": "2925e730",
   "metadata": {},
   "outputs": [],
   "source": []
  }
 ],
 "metadata": {
  "kernelspec": {
   "display_name": "Python 3 (ipykernel)",
   "language": "python",
   "name": "python3"
  },
  "language_info": {
   "codemirror_mode": {
    "name": "ipython",
    "version": 3
   },
   "file_extension": ".py",
   "mimetype": "text/x-python",
   "name": "python",
   "nbconvert_exporter": "python",
   "pygments_lexer": "ipython3",
   "version": "3.9.7"
  }
 },
 "nbformat": 4,
 "nbformat_minor": 5
}
