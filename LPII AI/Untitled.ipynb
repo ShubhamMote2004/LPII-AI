{
 "cells": [
  {
   "cell_type": "code",
   "execution_count": 18,
   "id": "33d81311",
   "metadata": {},
   "outputs": [],
   "source": [
    "graph = [\n",
    "    [0,1,0,0,0,10],\n",
    "    [0,0,2,1,0,0],\n",
    "    [0,0,0,0,5,0],\n",
    "    [0,0,0,0,3,4],\n",
    "    [0,0,0,0,0,2],\n",
    "    [0,0,0,0,0,0]\n",
    "]\n",
    "\n",
    "h = [5,3,4,2,6,0]\n",
    "no_of_nodes = 6\n",
    "f = graph[0][1] + h[1]\n"
   ]
  },
  {
   "cell_type": "code",
   "execution_count": 24,
   "id": "fabc38cc",
   "metadata": {},
   "outputs": [
    {
     "name": "stdout",
     "output_type": "stream",
     "text": [
      "4\n",
      "3\n",
      "2\n",
      "[0, 1, 4]\n",
      "[1, 3, 5]\n"
     ]
    }
   ],
   "source": [
    "start = \"S\"\n",
    "\n",
    "minimum = 9999\n",
    "\n",
    "\n",
    "remaining_initial_pos = []\n",
    "remaining_final_pos = []\n",
    "remaining_fn_value = []\n",
    "selected_initial_node = []\n",
    "selected_final_node = []\n",
    "\n",
    "for j in range (no_of_nodes):\n",
    "    for i in range (no_of_nodes):\n",
    "        if(graph[j][i] != 0):\n",
    "            if (graph[j][i] + h[i] < minimum):\n",
    "                minimum = graph[j][i] + h[i]\n",
    "                print(minimum)\n",
    "                selected_initial_node.append(j)\n",
    "                selected_final_node.append(i)\n",
    "            else:\n",
    "                remaining_initial_pos.append(j)\n",
    "                remaining_final_pos.append(i)\n",
    "                remaining_fn_value.append(graph[j][i] + h[i])\n",
    "        \n",
    "        \n",
    "            \n",
    "\n",
    "print(selected_initial_node)\n",
    "print(selected_final_node)\n",
    "#print(remaining_initial_pos)\n",
    "#print(remaining_final_pos)\n",
    "#print(remaining_fn_value)"
   ]
  },
  {
   "cell_type": "code",
   "execution_count": 77,
   "id": "6814defd",
   "metadata": {},
   "outputs": [],
   "source": [
    "# graph = [\n",
    "#     [0,1,0,0,0,10],\n",
    "#     [0,0,2,1,0,0],\n",
    "#     [0,0,0,0,5,0],\n",
    "#     [0,0,0,0,3,4],\n",
    "#     [0,0,0,0,0,2],\n",
    "#     [0,0,0,0,0,0]\n",
    "# ]\n",
    "\n",
    "graph = {\n",
    "    \"S\" : [[\"A\",1],[\"G\", 10]],\n",
    "    \"A\" : [[\"B\",2 ],[\"C\",3]],\n",
    "    \"B\" : [[\"D\",5]],\n",
    "    \"C\" : [[\"D\",5], [\"G\", 4]],\n",
    "    \"D\" : [[\"G\",2]],\n",
    "    \"G\" : []\n",
    "}\n",
    "\n",
    "n = 6\n",
    "\n",
    "h = {\"S\": 5, \"A\":3,\"B\":4, \"C\":2, \"D\":6, \"G\":0}\n"
   ]
  },
  {
   "cell_type": "code",
   "execution_count": 78,
   "id": "44af623d",
   "metadata": {},
   "outputs": [
    {
     "data": {
      "text/plain": [
       "5"
      ]
     },
     "execution_count": 78,
     "metadata": {},
     "output_type": "execute_result"
    }
   ],
   "source": [
    "#graph[\"S\"]\n",
    "\n",
    "# h[graph[curr][i][0]]\n",
    "\n",
    "h[\"S\"]"
   ]
  },
  {
   "cell_type": "code",
   "execution_count": 84,
   "id": "e90bc9c3",
   "metadata": {},
   "outputs": [
    {
     "name": "stdout",
     "output_type": "stream",
     "text": [
      "A\n"
     ]
    },
    {
     "ename": "KeyboardInterrupt",
     "evalue": "",
     "output_type": "error",
     "traceback": [
      "\u001b[1;31m---------------------------------------------------------------------------\u001b[0m",
      "\u001b[1;31mKeyboardInterrupt\u001b[0m                         Traceback (most recent call last)",
      "\u001b[1;32m~\\AppData\\Local\\Temp/ipykernel_19636/2915215444.py\u001b[0m in \u001b[0;36m<module>\u001b[1;34m\u001b[0m\n\u001b[0;32m      3\u001b[0m \u001b[0mminimum\u001b[0m \u001b[1;33m=\u001b[0m \u001b[1;36m999\u001b[0m\u001b[1;33m\u001b[0m\u001b[1;33m\u001b[0m\u001b[0m\n\u001b[0;32m      4\u001b[0m \u001b[1;32mwhile\u001b[0m \u001b[1;33m(\u001b[0m\u001b[0mcurr\u001b[0m \u001b[1;33m!=\u001b[0m \u001b[1;34m\"G\"\u001b[0m\u001b[1;33m)\u001b[0m\u001b[1;33m:\u001b[0m\u001b[1;33m\u001b[0m\u001b[1;33m\u001b[0m\u001b[0m\n\u001b[1;32m----> 5\u001b[1;33m     \u001b[1;32mfor\u001b[0m \u001b[0mi\u001b[0m \u001b[1;32min\u001b[0m \u001b[0mrange\u001b[0m\u001b[1;33m(\u001b[0m\u001b[0mlen\u001b[0m\u001b[1;33m(\u001b[0m\u001b[0mcurr\u001b[0m\u001b[1;33m)\u001b[0m\u001b[1;33m)\u001b[0m\u001b[1;33m:\u001b[0m\u001b[1;33m\u001b[0m\u001b[1;33m\u001b[0m\u001b[0m\n\u001b[0m\u001b[0;32m      6\u001b[0m \u001b[1;31m#         print(\"Hello I am i = \", i)\u001b[0m\u001b[1;33m\u001b[0m\u001b[1;33m\u001b[0m\u001b[0m\n\u001b[0;32m      7\u001b[0m         \u001b[1;32mif\u001b[0m \u001b[1;33m(\u001b[0m\u001b[1;33m(\u001b[0m\u001b[0mgraph\u001b[0m\u001b[1;33m[\u001b[0m\u001b[0mcurr\u001b[0m\u001b[1;33m]\u001b[0m\u001b[1;33m[\u001b[0m\u001b[0mi\u001b[0m\u001b[1;33m]\u001b[0m\u001b[1;33m[\u001b[0m\u001b[1;36m1\u001b[0m\u001b[1;33m]\u001b[0m \u001b[1;33m+\u001b[0m \u001b[0mh\u001b[0m\u001b[1;33m[\u001b[0m\u001b[0mgraph\u001b[0m\u001b[1;33m[\u001b[0m\u001b[0mcurr\u001b[0m\u001b[1;33m]\u001b[0m\u001b[1;33m[\u001b[0m\u001b[0mi\u001b[0m\u001b[1;33m]\u001b[0m\u001b[1;33m[\u001b[0m\u001b[1;36m0\u001b[0m\u001b[1;33m]\u001b[0m\u001b[1;33m]\u001b[0m\u001b[1;33m)\u001b[0m  \u001b[1;33m<\u001b[0m \u001b[0mminimum\u001b[0m\u001b[1;33m)\u001b[0m\u001b[1;33m:\u001b[0m\u001b[1;33m\u001b[0m\u001b[1;33m\u001b[0m\u001b[0m\n",
      "\u001b[1;31mKeyboardInterrupt\u001b[0m: "
     ]
    }
   ],
   "source": [
    "start = \"S\"\n",
    "curr = start\n",
    "minimum = 999\n",
    "while (curr != \"G\"):\n",
    "    for i in range(len(curr)):\n",
    "#         print(\"Hello I am i = \", i)\n",
    "        if ((graph[curr][i][1] + h[graph[curr][i][0]])  < minimum):\n",
    "            minimum = graph[curr][i][1]\n",
    "            curr = graph[curr][i][0]\n",
    "            print(curr)\n",
    "            \n",
    "            "
   ]
  },
  {
   "cell_type": "code",
   "execution_count": null,
   "id": "f8d3228b",
   "metadata": {},
   "outputs": [],
   "source": []
  }
 ],
 "metadata": {
  "kernelspec": {
   "display_name": "Python 3 (ipykernel)",
   "language": "python",
   "name": "python3"
  },
  "language_info": {
   "codemirror_mode": {
    "name": "ipython",
    "version": 3
   },
   "file_extension": ".py",
   "mimetype": "text/x-python",
   "name": "python",
   "nbconvert_exporter": "python",
   "pygments_lexer": "ipython3",
   "version": "3.9.7"
  }
 },
 "nbformat": 4,
 "nbformat_minor": 5
}
