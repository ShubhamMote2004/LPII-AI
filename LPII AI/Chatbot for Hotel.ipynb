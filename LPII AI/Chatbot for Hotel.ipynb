{
 "cells": [
  {
   "cell_type": "code",
   "execution_count": 32,
   "id": "c4952fbc",
   "metadata": {
    "scrolled": true
   },
   "outputs": [
    {
     "name": "stdout",
     "output_type": "stream",
     "text": [
      "  WELCOME TO BHOJAN KAKSHA\n",
      "  ~~~~~~~~~~~~~~~~~~~~~~~~\n",
      "\t What do you\n",
      "\twant to order?\n",
      "  ~~~~~~~~~~~~~~~~~~~~~~~~\n",
      "  Sr.No | Price | Item\n",
      "  ------+-------+------\n",
      "   1 )  |  10   | Tea\n",
      "   2 )  |  15   | Coffee\n",
      "   3 )  |  25   | Bhaji\n",
      "   4 )  |  15   | Pattice\n",
      "   5 )  |  20   | Vadapav\n",
      "   6 )  |  90   | Pav Bhaji\n",
      "   7 )  |  80   | Misal Pav\n",
      "+---------------------------------------------+\n",
      "| Enter Sr.No. of Item that you want to order |\n",
      "+---------------------------------------------+\n",
      "What Do you Want to order: 7\n",
      "Enter Quantity of  Misal Pav\n",
      "5\n",
      "Anything Else? (y/n): y\n",
      "What Do you Want to order: 5\n",
      "Enter Quantity of  Vadapav\n",
      "5\n",
      "Anything Else? (y/n): y\n",
      "What Do you Want to order: 1\n",
      "Enter Quantity of  Tea\n",
      "4\n",
      "Anything Else? (y/n): y\n",
      "What Do you Want to order: 2\n",
      "Enter Quantity of  Coffee\n",
      "1\n",
      "Anything Else? (y/n): n\n",
      "THANKS FOR ORDERING\n",
      "Misal Pav 5 400\n",
      "Vadapav 5 100\n",
      "Tea 4 40\n",
      "Coffee 1 15\n",
      "Total Amount:  555\n"
     ]
    }
   ],
   "source": [
    "menu = [\n",
    "        [\"Tea\",10],\n",
    "        [\"Coffee\",15],\n",
    "        [\"Bhaji\",25],\n",
    "        [\"Pattice\",15],\n",
    "        [\"Vadapav\",20],\n",
    "        [\"Pav Bhaji\",90],\n",
    "        [\"Misal Pav\",80]]\n",
    "\n",
    "def display_bill(x,y):\n",
    "    print(\"THANKS FOR ORDERING\")\n",
    "    total_amount = 0\n",
    "    for j in range (len(x)):\n",
    "        print(x[j][0], y[j], (x[j][1] * y[j]))\n",
    "        total_amount = total_amount +  (x[j][1] * y[j])\n",
    "    \n",
    "    print(\"Total Amount: \", total_amount)\n",
    "\n",
    "\n",
    "def take_order():\n",
    "    print(\"| Enter Sr.No. of Item that you want to order |\")\n",
    "    print(\"+---------------------------------------------+\")\n",
    "    flag = \"y\"\n",
    "    order_list = []\n",
    "    qty_list = []\n",
    "    while (flag == \"y\" or flag == \"Y\"):\n",
    "        sample_order = int(input(\"What Do you Want to order: \"))\n",
    "        order = sample_order -1\n",
    "        order_list.append(menu[order])\n",
    "        print(\"Enter Quantity of \", menu[order][0])\n",
    "        qty = int(input())\n",
    "        qty_list.append(qty)\n",
    "        flag = str(input(\"Anything Else? (y/n): \"))\n",
    "    display_bill(order_list, qty_list)\n",
    "\n",
    "\n",
    "def display_menu():\n",
    "    for i in range (len(menu)):\n",
    "        print(\"  \",i+1,\")  | \", menu[i][1], \"  |\", menu[i][0])\n",
    "    print(\"+---------------------------------------------+\")    \n",
    "    take_order()\n",
    "    \n",
    "def welcome():\n",
    "    print(\"  WELCOME TO BHOJAN KAKSHA\")\n",
    "    print(\"  ~~~~~~~~~~~~~~~~~~~~~~~~\")\n",
    "    print(\"\\t What do you\")\n",
    "    print(\"\\twant to order?\")\n",
    "    print(\"  ~~~~~~~~~~~~~~~~~~~~~~~~\")\n",
    "    print(\"  Sr.No | Price | Item\")\n",
    "    print(\"  ------+-------+------\")\n",
    "    display_menu()\n",
    "\n",
    "\n",
    "welcome()"
   ]
  },
  {
   "cell_type": "code",
   "execution_count": 29,
   "id": "e30ca3e3",
   "metadata": {},
   "outputs": [],
   "source": [
    "# menu = [\n",
    "# [\"Tea\",10],\n",
    "# [\"Coffee\",15],\n",
    "# [\"Bhaji\",25],\n",
    "# [\"Pattice\",15],\n",
    "# [\"Vadapav\",20],\n",
    "# [\"Pav Bhaji\",90],\n",
    "# [\"Misal Pav\",80]]\n",
    "    \n",
    "# for i in range (len(menu)):\n",
    "#     print(menu[i][1])"
   ]
  },
  {
   "cell_type": "code",
   "execution_count": null,
   "id": "1990cf66",
   "metadata": {},
   "outputs": [],
   "source": [
    "# a = \"Yes\"\n",
    "# def test():\n",
    "#     print(a)\n",
    "    \n",
    "# test()"
   ]
  },
  {
   "cell_type": "code",
   "execution_count": 25,
   "id": "7a30816a",
   "metadata": {},
   "outputs": [
    {
     "name": "stdout",
     "output_type": "stream",
     "text": [
      "0 t1\n",
      "1 t2\n",
      "2 t3\n",
      "3 t4\n"
     ]
    }
   ],
   "source": [
    "def temp2(x,y):\n",
    "    for i in range (len(x)):\n",
    "        print(i, x[i][0])\n",
    "    \n",
    "    \n",
    "def temp1():\n",
    "    a = [[\"t1\",1],[\"t2\",2],[\"t3\",3],[\"t4\",4]]\n",
    "    b = [0,9,8,7,6]\n",
    "    \n",
    "    temp2(a,b)\n",
    "\n",
    "temp1()"
   ]
  },
  {
   "cell_type": "code",
   "execution_count": null,
   "id": "a632674b",
   "metadata": {},
   "outputs": [],
   "source": []
  }
 ],
 "metadata": {
  "kernelspec": {
   "display_name": "Python 3 (ipykernel)",
   "language": "python",
   "name": "python3"
  },
  "language_info": {
   "codemirror_mode": {
    "name": "ipython",
    "version": 3
   },
   "file_extension": ".py",
   "mimetype": "text/x-python",
   "name": "python",
   "nbconvert_exporter": "python",
   "pygments_lexer": "ipython3",
   "version": "3.9.7"
  }
 },
 "nbformat": 4,
 "nbformat_minor": 5
}
