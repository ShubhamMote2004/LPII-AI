{
 "cells": [
  {
   "cell_type": "code",
   "execution_count": 8,
   "id": "c40ea85a",
   "metadata": {},
   "outputs": [
    {
     "name": "stdout",
     "output_type": "stream",
     "text": [
      "[0, True, 0, 0]\n"
     ]
    }
   ],
   "source": [
    "#Prims algoritham\n",
    "\n",
    "graph = [ \n",
    "          [0,2,4,0],\n",
    "          [2,0,1,3],\n",
    "          [4,1,0,2],\n",
    "          [0,3,2,0]\n",
    "        ]\n",
    "\n",
    "visited = []\n",
    "\n",
    "mst = [\n",
    "        [0,0,0,0],\n",
    "        [0,0,0,0],\n",
    "        [0,0,0,0],\n",
    "        [0,0,0,0]\n",
    "      ]\n",
    "edge_weight = 999999\n",
    "\n",
    "selected_node = [0,0,0,0]\n",
    "\n",
    "for i in range (len(graph)):\n",
    "    for j in range (len(graph)):\n",
    "        if (graph[i][j] < edge_weight) and (graph[i][j] != 0) and selected_node[i] != True:\n",
    "            edge_weight = graph[i][j]\n",
    "            selected_node[j] = True\n",
    "            \n",
    "print(selected_node)"
   ]
  },
  {
   "cell_type": "code",
   "execution_count": 23,
   "id": "3279800e",
   "metadata": {},
   "outputs": [
    {
     "name": "stdout",
     "output_type": "stream",
     "text": [
      "Value of i is:  0\n",
      "\tValue of j is:  0\n",
      "\tValue of j is:  1\n",
      "\t\tMinimum Value is:  2\n",
      "selected nodes are:  [True, True, 0, 0]\n",
      "\tValue of j is:  2\n",
      "\tValue of j is:  3\n",
      "Value of i is:  1\n",
      "\tValue of j is:  0\n",
      "\tValue of j is:  1\n",
      "\tValue of j is:  2\n",
      "\t\tMinimum Value is:  1\n",
      "selected nodes are:  [True, True, True, 0]\n",
      "\tValue of j is:  3\n",
      "Value of i is:  2\n",
      "\tValue of j is:  0\n",
      "\tValue of j is:  1\n",
      "\tValue of j is:  2\n",
      "\tValue of j is:  3\n",
      "Value of i is:  3\n",
      "[[0, 2, 0, 0], [2, 0, 1, 0], [0, 1, 0, 0], [0, 0, 0, 0]]\n",
      "Number of Nodes:  4\n",
      "Number of edges:  2\n"
     ]
    }
   ],
   "source": [
    "graph = [ \n",
    "          [0,2,4,0],\n",
    "          [2,0,1,3],\n",
    "          [4,1,0,2],\n",
    "          [0,3,2,0]\n",
    "        ]\n",
    "\n",
    "inf = 9999\n",
    "\n",
    "n = 4   #Number of nodes\n",
    "minimum = inf\n",
    "selected_node = [0,0,0,0]\n",
    "\n",
    "mst = [\n",
    "        [0,0,0,0],\n",
    "        [0,0,0,0],\n",
    "        [0,0,0,0],\n",
    "        [0,0,0,0]\n",
    "      ]\n",
    "\n",
    "selected_node[0] = True\n",
    "edges = 0\n",
    "\n",
    "for i in range(n):\n",
    "    print(\"Value of i is: \",i)\n",
    "    if (selected_node[i] == True):\n",
    "        for j in range(n):\n",
    "            print(\"\\tValue of j is: \",j)\n",
    "            if (graph[i][j] < minimum) and (graph[i][j] != 0) :\n",
    "                minimum = graph[i][j]\n",
    "                print(\"\\t\\tMinimum Value is: \",minimum)\n",
    "                \n",
    "                mst[i][j] = mst[j][i] = minimum\n",
    "                selected_node[j] = True\n",
    "                print(\"selected nodes are: \",selected_node)\n",
    "                edges = edges+1\n",
    "\n",
    "print(mst)\n",
    "print(\"Number of Nodes: \", n)\n",
    "print(\"Number of edges: \", edges)\n"
   ]
  },
  {
   "cell_type": "code",
   "execution_count": null,
   "id": "b9cfb908",
   "metadata": {},
   "outputs": [],
   "source": []
  }
 ],
 "metadata": {
  "kernelspec": {
   "display_name": "Python 3 (ipykernel)",
   "language": "python",
   "name": "python3"
  },
  "language_info": {
   "codemirror_mode": {
    "name": "ipython",
    "version": 3
   },
   "file_extension": ".py",
   "mimetype": "text/x-python",
   "name": "python",
   "nbconvert_exporter": "python",
   "pygments_lexer": "ipython3",
   "version": "3.9.7"
  }
 },
 "nbformat": 4,
 "nbformat_minor": 5
}
